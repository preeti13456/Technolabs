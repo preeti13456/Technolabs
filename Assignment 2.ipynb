{
 "cells": [
  {
   "cell_type": "code",
   "execution_count": 1,
   "metadata": {},
   "outputs": [
    {
     "name": "stdout",
     "output_type": "stream",
     "text": [
      "The list is Empty\n"
     ]
    }
   ],
   "source": [
    "def Enquiry(lis1): \n",
    "    if not lis1: \n",
    "        return 1\n",
    "    else: \n",
    "        return 0\n",
    "          \n",
    "# Driver Code \n",
    "lis1 = [] \n",
    "if Enquiry(lis1): \n",
    "    print (\"The list is Empty\") \n",
    "else: \n",
    "    print (\"The list is not empty\") "
   ]
  },
  {
   "cell_type": "code",
   "execution_count": 2,
   "metadata": {},
   "outputs": [
    {
     "name": "stdout",
     "output_type": "stream",
     "text": [
      "Original list : [1, 3, 5, 7, 2, 1, 5, 2, 8]\n",
      "Modified list : [1, 3, 5, 7, 2, 8]\n"
     ]
    }
   ],
   "source": [
    "original_list = [1,3,5,7,2,1,5,2,8]\n",
    "print(\"Original list : {}\".format(original_list))\n",
    "\n",
    "final_list = []\n",
    "\n",
    "for item in original_list :\n",
    "    \n",
    "    if item not in final_list :\n",
    "        final_list.append(item)\n",
    "\n",
    "print(\"Modified list : {}\".format(final_list))"
   ]
  },
  {
   "cell_type": "code",
   "execution_count": 4,
   "metadata": {},
   "outputs": [
    {
     "name": "stdout",
     "output_type": "stream",
     "text": [
      "Enter list 11 , 5, 7, 8\n",
      "Enter list 29, 8, 6, 6\n",
      "False\n"
     ]
    }
   ],
   "source": [
    "def common(list1, list2):\n",
    "    result = False\n",
    "    for x in list1:\n",
    "        for y in list2:\n",
    "            if x==y:\n",
    "                return True\n",
    "        return result    \n",
    "a = [x for x in input(\"Enter list 1\").split()]    \n",
    "b = [y for y in input(\"Enter list 2\").split()] \n",
    "print(common(a,b))"
   ]
  },
  {
   "cell_type": "code",
   "execution_count": 6,
   "metadata": {},
   "outputs": [
    {
     "name": "stdout",
     "output_type": "stream",
     "text": [
      "[16, 11, 21, 31]\n"
     ]
    }
   ],
   "source": [
    "def list_diff(list1, list2): \n",
    "    return (list(set(list1) - set(list2))) \n",
    "list1 = [11, 16, 21, 26, 31, 36, 41] \n",
    "list2 = [26, 41, 36] \n",
    "\n",
    "\n",
    "print(list_diff(list1, list2))"
   ]
  },
  {
   "cell_type": "code",
   "execution_count": 7,
   "metadata": {},
   "outputs": [
    {
     "name": "stdout",
     "output_type": "stream",
     "text": [
      "Second highest number is :  45\n"
     ]
    }
   ],
   "source": [
    "list1 = [10, 20, 4, 45, 99] \n",
    "  \n",
    "max=max(list1[0],list1[1]) \n",
    "secondmax=min(list1[0],list1[1]) \n",
    "  \n",
    "for i in range(2,len(list1)): \n",
    "    if list1[i]>max: \n",
    "        secondmax=max\n",
    "        max=list1[i] \n",
    "    else: \n",
    "        if list1[i]>secondmax: \n",
    "            secondmax=list1[i] \n",
    "  \n",
    "print(\"Second highest number is : \",str(secondmax))"
   ]
  },
  {
   "cell_type": "code",
   "execution_count": 10,
   "metadata": {},
   "outputs": [
    {
     "name": "stdout",
     "output_type": "stream",
     "text": [
      "-2\n",
      "0\n",
      "0\n",
      "None\n",
      "None\n"
     ]
    }
   ],
   "source": [
    "def second_smallest(numbers):\n",
    "  if (len(numbers)<2):\n",
    "    return\n",
    "  if ((len(numbers)==2)  and (numbers[0] == numbers[1]) ):\n",
    "    return\n",
    "  dup_items = set()\n",
    "  uniq_items = []\n",
    "  for x in numbers:\n",
    "    if x not in dup_items:\n",
    "      uniq_items.append(x)\n",
    "      dup_items.add(x)\n",
    "  uniq_items.sort()    \n",
    "  return  uniq_items[1]   \n",
    "\n",
    "print(second_smallest([1, 2, -8, -2, 0, -2]))\n",
    "print(second_smallest([1, 1, 0, 0, 2, -2, -2]))\n",
    "print(second_smallest([1, 1, 1, 0, 0, 0, 2, -2, -2]))\n",
    "print(second_smallest([2,2]))\n",
    "print(second_smallest([2]))"
   ]
  },
  {
   "cell_type": "code",
   "execution_count": 11,
   "metadata": {},
   "outputs": [
    {
     "name": "stdout",
     "output_type": "stream",
     "text": [
      "Original List :  [10, 10, 10, 10, 20, 20, 20, 20, 40, 40, 50, 50, 30]\n",
      "Frequency of the elements in the List :  Counter({10: 4, 20: 4, 40: 2, 50: 2, 30: 1})\n"
     ]
    }
   ],
   "source": [
    "import collections\n",
    "my_list = [10,10,10,10,20,20,20,20,40,40,50,50,30]\n",
    "print(\"Original List : \",my_list)\n",
    "ctr = collections.Counter(my_list)\n",
    "print(\"Frequency of the elements in the List : \",ctr)"
   ]
  },
  {
   "cell_type": "code",
   "execution_count": 12,
   "metadata": {},
   "outputs": [
    {
     "name": "stdout",
     "output_type": "stream",
     "text": [
      "The original dictionary : {}\n",
      "Is dictionary empty ? : True\n"
     ]
    }
   ],
   "source": [
    "test_dict = {} \n",
    "  \n",
    "print(\"The original dictionary : \" + str(test_dict)) \n",
    "  \n",
    "\n",
    "res = not bool(test_dict) \n",
    "  \n",
    "print(\"Is dictionary empty ? : \" + str(res)) "
   ]
  },
  {
   "cell_type": "code",
   "execution_count": 13,
   "metadata": {},
   "outputs": [
    {
     "name": "stdout",
     "output_type": "stream",
     "text": [
      "Enter a number:56\n",
      "{1: 1, 2: 4, 3: 9, 4: 16, 5: 25, 6: 36, 7: 49, 8: 64, 9: 81, 10: 100, 11: 121, 12: 144, 13: 169, 14: 196, 15: 225, 16: 256, 17: 289, 18: 324, 19: 361, 20: 400, 21: 441, 22: 484, 23: 529, 24: 576, 25: 625, 26: 676, 27: 729, 28: 784, 29: 841, 30: 900, 31: 961, 32: 1024, 33: 1089, 34: 1156, 35: 1225, 36: 1296, 37: 1369, 38: 1444, 39: 1521, 40: 1600, 41: 1681, 42: 1764, 43: 1849, 44: 1936, 45: 2025, 46: 2116, 47: 2209, 48: 2304, 49: 2401, 50: 2500, 51: 2601, 52: 2704, 53: 2809, 54: 2916, 55: 3025, 56: 3136}\n"
     ]
    }
   ],
   "source": [
    "n=int(input(\"Enter a number:\"))\n",
    "d={x:x*x for x in range(1,n+1)}\n",
    "print(d)"
   ]
  },
  {
   "cell_type": "code",
   "execution_count": null,
   "metadata": {},
   "outputs": [],
   "source": []
  }
 ],
 "metadata": {
  "kernelspec": {
   "display_name": "Python 3",
   "language": "python",
   "name": "python3"
  },
  "language_info": {
   "codemirror_mode": {
    "name": "ipython",
    "version": 3
   },
   "file_extension": ".py",
   "mimetype": "text/x-python",
   "name": "python",
   "nbconvert_exporter": "python",
   "pygments_lexer": "ipython3",
   "version": "3.7.6"
  }
 },
 "nbformat": 4,
 "nbformat_minor": 4
}
